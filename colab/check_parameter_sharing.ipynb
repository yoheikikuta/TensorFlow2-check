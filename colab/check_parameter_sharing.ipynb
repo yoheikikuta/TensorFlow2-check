{
  "nbformat": 4,
  "nbformat_minor": 0,
  "metadata": {
    "colab": {
      "name": "check_parameter_sharing.ipynb",
      "provenance": [],
      "collapsed_sections": [],
      "include_colab_link": true
    },
    "kernelspec": {
      "name": "python3",
      "display_name": "Python 3"
    }
  },
  "cells": [
    {
      "cell_type": "markdown",
      "metadata": {
        "id": "view-in-github",
        "colab_type": "text"
      },
      "source": [
        "<a href=\"https://colab.research.google.com/github/yoheikikuta/TensorFlow2-check/blob/master/colab/check_parameter_sharing.ipynb\" target=\"_parent\"><img src=\"https://colab.research.google.com/assets/colab-badge.svg\" alt=\"Open In Colab\"/></a>"
      ]
    },
    {
      "cell_type": "markdown",
      "metadata": {
        "id": "JQpxMmg2-T6J",
        "colab_type": "text"
      },
      "source": [
        "# Check Parameter sharing\n",
        "\n"
      ]
    },
    {
      "cell_type": "code",
      "metadata": {
        "id": "36klVLEh1-TR",
        "colab_type": "code",
        "colab": {
          "base_uri": "https://localhost:8080/",
          "height": 33
        },
        "outputId": "46e2e71e-163e-4dfd-e513-1e37ca3e3029"
      },
      "source": [
        "from __future__ import absolute_import, division, print_function, unicode_literals\n",
        "\n",
        "try:\n",
        "    # %tensorflow_version only exists in Colab.\n",
        "    %tensorflow_version 2.x\n",
        "except Exception:\n",
        "    pass\n",
        "\n",
        "import tensorflow as tf"
      ],
      "execution_count": 1,
      "outputs": [
        {
          "output_type": "stream",
          "text": [
            "TensorFlow 2.x selected.\n"
          ],
          "name": "stdout"
        }
      ]
    },
    {
      "cell_type": "code",
      "metadata": {
        "id": "AhYCLfxU2EPx",
        "colab_type": "code",
        "colab": {
          "base_uri": "https://localhost:8080/",
          "height": 33
        },
        "outputId": "8f878e97-bcab-42c4-bd4d-724c441beed0"
      },
      "source": [
        "tf.__version__"
      ],
      "execution_count": 2,
      "outputs": [
        {
          "output_type": "execute_result",
          "data": {
            "text/plain": [
              "'2.0.0'"
            ]
          },
          "metadata": {
            "tags": []
          },
          "execution_count": 2
        }
      ]
    },
    {
      "cell_type": "code",
      "metadata": {
        "id": "0H7_SYwb2fV3",
        "colab_type": "code",
        "colab": {}
      },
      "source": [
        "import numpy as np\n",
        "from tensorflow.keras import layers\n",
        "from tensorflow.keras import Model"
      ],
      "execution_count": 0,
      "outputs": []
    },
    {
      "cell_type": "markdown",
      "metadata": {
        "id": "z2MSf7zJ-hrS",
        "colab_type": "text"
      },
      "source": [
        "## NOT shared case"
      ]
    },
    {
      "cell_type": "code",
      "metadata": {
        "id": "gGTP2Cvn2FjV",
        "colab_type": "code",
        "colab": {}
      },
      "source": [
        "class Model1(Model):\n",
        "    def __init__(self):\n",
        "        super(Model1, self).__init__()\n",
        "        self.input_layer = layers.InputLayer((28, 28, 1))\n",
        "        self.conv1 = layers.Conv2D(32, 3, activation='relu')\n",
        "        self.conv2 = layers.Conv2D(32, 3, activation='relu')\n",
        "        self.conv3 = layers.Conv2D(32, 3, activation='relu')\n",
        "        self.flatten = layers.Flatten()\n",
        "        self.d1 = layers.Dense(128, activation='relu')\n",
        "        self.d2 = layers.Dense(10, activation='softmax')\n",
        "\n",
        "    def call(self, x):\n",
        "        x = self.input_layer(x)\n",
        "        x = self.conv1(x)\n",
        "        x = self.conv2(x)\n",
        "        x = self.conv3(x)\n",
        "        x = self.flatten(x)\n",
        "        x = self.d1(x)\n",
        "        return self.d2(x)"
      ],
      "execution_count": 0,
      "outputs": []
    },
    {
      "cell_type": "code",
      "metadata": {
        "id": "TGojOJg622SV",
        "colab_type": "code",
        "colab": {}
      },
      "source": [
        "model1 = Model1()"
      ],
      "execution_count": 0,
      "outputs": []
    },
    {
      "cell_type": "code",
      "metadata": {
        "id": "wMUUfTEG29GB",
        "colab_type": "code",
        "colab": {
          "base_uri": "https://localhost:8080/",
          "height": 33
        },
        "outputId": "209f27df-7e72-4c35-cecc-23a0b4216713"
      },
      "source": [
        "model1.trainable_variables, model1.non_trainable_variables"
      ],
      "execution_count": 6,
      "outputs": [
        {
          "output_type": "execute_result",
          "data": {
            "text/plain": [
              "([], [])"
            ]
          },
          "metadata": {
            "tags": []
          },
          "execution_count": 6
        }
      ]
    },
    {
      "cell_type": "markdown",
      "metadata": {
        "id": "_YEjR2Mk5jI-",
        "colab_type": "text"
      },
      "source": [
        "We need to run at least once to define the graph."
      ]
    },
    {
      "cell_type": "code",
      "metadata": {
        "id": "tQfKD3cT5Etk",
        "colab_type": "code",
        "colab": {}
      },
      "source": [
        "mnist = tf.keras.datasets.mnist\n",
        "\n",
        "(x_train, y_train), (x_test, y_test) = mnist.load_data()\n",
        "x_train, x_test = x_train / 255.0, x_test / 255.0\n",
        "\n",
        "# Add a channels dimension\n",
        "x_train = x_train[..., tf.newaxis]\n",
        "x_test = x_test[..., tf.newaxis]"
      ],
      "execution_count": 0,
      "outputs": []
    },
    {
      "cell_type": "code",
      "metadata": {
        "id": "imYik1u75Ngs",
        "colab_type": "code",
        "colab": {
          "base_uri": "https://localhost:8080/",
          "height": 200
        },
        "outputId": "7dc603b7-e57d-4db3-dc23-e010b073ab0d"
      },
      "source": [
        "model1(tf.constant(x_train[0:1]))"
      ],
      "execution_count": 8,
      "outputs": [
        {
          "output_type": "stream",
          "text": [
            "WARNING:tensorflow:Layer model1 is casting an input tensor from dtype float64 to the layer's dtype of float32, which is new behavior in TensorFlow 2.  The layer has dtype float32 because it's dtype defaults to floatx.\n",
            "\n",
            "If you intended to run this layer in float32, you can safely ignore this warning. If in doubt, this warning is likely only an issue if you are porting a TensorFlow 1.X model to TensorFlow 2.\n",
            "\n",
            "To change all layers to have dtype float64 by default, call `tf.keras.backend.set_floatx('float64')`. To change just this layer, pass dtype='float64' to the layer constructor. If you are the author of this layer, you can disable autocasting by passing autocast=False to the base Layer constructor.\n",
            "\n"
          ],
          "name": "stdout"
        },
        {
          "output_type": "execute_result",
          "data": {
            "text/plain": [
              "<tf.Tensor: id=144, shape=(1, 10), dtype=float32, numpy=\n",
              "array([[0.09472661, 0.09300236, 0.0958236 , 0.09831807, 0.11362754,\n",
              "        0.11690934, 0.09909359, 0.09278698, 0.09523912, 0.10047279]],\n",
              "      dtype=float32)>"
            ]
          },
          "metadata": {
            "tags": []
          },
          "execution_count": 8
        }
      ]
    },
    {
      "cell_type": "code",
      "metadata": {
        "id": "GS_-Zedj5YhH",
        "colab_type": "code",
        "colab": {
          "base_uri": "https://localhost:8080/",
          "height": 33
        },
        "outputId": "82acd7e7-ad25-4c15-e749-ba3b60817dc5"
      },
      "source": [
        "len(model1.trainable_variables), len(model1.non_trainable_variables)"
      ],
      "execution_count": 9,
      "outputs": [
        {
          "output_type": "execute_result",
          "data": {
            "text/plain": [
              "(10, 0)"
            ]
          },
          "metadata": {
            "tags": []
          },
          "execution_count": 9
        }
      ]
    },
    {
      "cell_type": "code",
      "metadata": {
        "id": "bLeGk6h75pA5",
        "colab_type": "code",
        "colab": {
          "base_uri": "https://localhost:8080/",
          "height": 33
        },
        "outputId": "d367780c-70f5-4469-d034-2014a62bcee0"
      },
      "source": [
        "model1.trainable_variables[0].shape, model1.trainable_variables[1].shape, model1.trainable_variables[2].shape"
      ],
      "execution_count": 10,
      "outputs": [
        {
          "output_type": "execute_result",
          "data": {
            "text/plain": [
              "(TensorShape([3, 3, 1, 32]), TensorShape([32]), TensorShape([3, 3, 32, 32]))"
            ]
          },
          "metadata": {
            "tags": []
          },
          "execution_count": 10
        }
      ]
    },
    {
      "cell_type": "code",
      "metadata": {
        "id": "nk1v-De856Md",
        "colab_type": "code",
        "colab": {}
      },
      "source": [
        "def compute_trainable_var_num(trainable: list):\n",
        "    total_num = 0\n",
        "    for idx, component in enumerate(trainable):\n",
        "        print(idx, component.name, np.prod(component.shape))\n",
        "        total_num += np.prod(component.shape)\n",
        "\n",
        "    return total_num"
      ],
      "execution_count": 0,
      "outputs": []
    },
    {
      "cell_type": "code",
      "metadata": {
        "id": "LTygMWEs6Sb0",
        "colab_type": "code",
        "colab": {
          "base_uri": "https://localhost:8080/",
          "height": 180
        },
        "outputId": "74cee1e3-d9cc-4a6d-8810-4471b3750a2a"
      },
      "source": [
        "total_num = compute_trainable_var_num(model1.trainable_variables)"
      ],
      "execution_count": 12,
      "outputs": [
        {
          "output_type": "stream",
          "text": [
            "0 model1/conv2d/kernel:0 288\n",
            "1 model1/conv2d/bias:0 32\n",
            "2 model1/conv2d_1/kernel:0 9216\n",
            "3 model1/conv2d_1/bias:0 32\n",
            "4 model1/conv2d_2/kernel:0 9216\n",
            "5 model1/conv2d_2/bias:0 32\n",
            "6 model1/dense/kernel:0 1982464\n",
            "7 model1/dense/bias:0 128\n",
            "8 model1/dense_1/kernel:0 1280\n",
            "9 model1/dense_1/bias:0 10\n"
          ],
          "name": "stdout"
        }
      ]
    },
    {
      "cell_type": "code",
      "metadata": {
        "id": "oIVkvaYi7LOU",
        "colab_type": "code",
        "colab": {
          "base_uri": "https://localhost:8080/",
          "height": 33
        },
        "outputId": "e6c6178f-e43c-4270-e73a-f46d9524c00f"
      },
      "source": [
        "total_num"
      ],
      "execution_count": 13,
      "outputs": [
        {
          "output_type": "execute_result",
          "data": {
            "text/plain": [
              "2002698"
            ]
          },
          "metadata": {
            "tags": []
          },
          "execution_count": 13
        }
      ]
    },
    {
      "cell_type": "markdown",
      "metadata": {
        "id": "_Cah4hVW-lY6",
        "colab_type": "text"
      },
      "source": [
        "## Shared case"
      ]
    },
    {
      "cell_type": "code",
      "metadata": {
        "id": "vYXN2LQE9AZR",
        "colab_type": "code",
        "colab": {}
      },
      "source": [
        "class Model2(Model):\n",
        "    def __init__(self):\n",
        "        super(Model2, self).__init__()\n",
        "        self.input_layer = layers.InputLayer((28, 28, 1))\n",
        "        self.conv_1 = layers.Conv2D(32, 3, activation='relu')\n",
        "        self.conv_2_3 = layers.Conv2D(32, 3, activation='relu')\n",
        "        self.flatten = layers.Flatten()\n",
        "        self.d1 = layers.Dense(128, activation='relu')\n",
        "        self.d2 = layers.Dense(10, activation='softmax')\n",
        "\n",
        "    def call(self, x):\n",
        "        x = self.input_layer(x)\n",
        "        x = self.conv_1(x)\n",
        "        x = self.conv_2_3(x)\n",
        "        x = self.conv_2_3(x)\n",
        "        x = self.flatten(x)\n",
        "        x = self.d1(x)\n",
        "        return self.d2(x)"
      ],
      "execution_count": 0,
      "outputs": []
    },
    {
      "cell_type": "code",
      "metadata": {
        "id": "VGRQwZtb9G-f",
        "colab_type": "code",
        "colab": {}
      },
      "source": [
        "model2 = Model2()"
      ],
      "execution_count": 0,
      "outputs": []
    },
    {
      "cell_type": "code",
      "metadata": {
        "id": "ZlNKmZVa9JnZ",
        "colab_type": "code",
        "colab": {
          "base_uri": "https://localhost:8080/",
          "height": 33
        },
        "outputId": "517bf850-2da3-49d8-ea43-352cac1d5ccf"
      },
      "source": [
        "model2.trainable_variables, model2.non_trainable_variables"
      ],
      "execution_count": 16,
      "outputs": [
        {
          "output_type": "execute_result",
          "data": {
            "text/plain": [
              "([], [])"
            ]
          },
          "metadata": {
            "tags": []
          },
          "execution_count": 16
        }
      ]
    },
    {
      "cell_type": "code",
      "metadata": {
        "id": "k3bNUuQ69QyM",
        "colab_type": "code",
        "colab": {
          "base_uri": "https://localhost:8080/",
          "height": 200
        },
        "outputId": "1d9ea872-315c-4956-8e5d-d3ad46394d97"
      },
      "source": [
        "model2(tf.constant(x_train[0:1]))"
      ],
      "execution_count": 17,
      "outputs": [
        {
          "output_type": "stream",
          "text": [
            "WARNING:tensorflow:Layer model2 is casting an input tensor from dtype float64 to the layer's dtype of float32, which is new behavior in TensorFlow 2.  The layer has dtype float32 because it's dtype defaults to floatx.\n",
            "\n",
            "If you intended to run this layer in float32, you can safely ignore this warning. If in doubt, this warning is likely only an issue if you are porting a TensorFlow 1.X model to TensorFlow 2.\n",
            "\n",
            "To change all layers to have dtype float64 by default, call `tf.keras.backend.set_floatx('float64')`. To change just this layer, pass dtype='float64' to the layer constructor. If you are the author of this layer, you can disable autocasting by passing autocast=False to the base Layer constructor.\n",
            "\n"
          ],
          "name": "stdout"
        },
        {
          "output_type": "execute_result",
          "data": {
            "text/plain": [
              "<tf.Tensor: id=264, shape=(1, 10), dtype=float32, numpy=\n",
              "array([[0.10101324, 0.10935233, 0.09916582, 0.09875683, 0.09361419,\n",
              "        0.0980546 , 0.09641179, 0.10259576, 0.10012846, 0.10090692]],\n",
              "      dtype=float32)>"
            ]
          },
          "metadata": {
            "tags": []
          },
          "execution_count": 17
        }
      ]
    },
    {
      "cell_type": "code",
      "metadata": {
        "id": "IoK5frwG9TiH",
        "colab_type": "code",
        "colab": {
          "base_uri": "https://localhost:8080/",
          "height": 147
        },
        "outputId": "b63a2020-a66b-434f-b796-3567d9bbbd82"
      },
      "source": [
        "total_num = compute_trainable_var_num(model2.trainable_variables)"
      ],
      "execution_count": 18,
      "outputs": [
        {
          "output_type": "stream",
          "text": [
            "0 model2/conv2d_3/kernel:0 288\n",
            "1 model2/conv2d_3/bias:0 32\n",
            "2 model2/conv2d_4/kernel:0 9216\n",
            "3 model2/conv2d_4/bias:0 32\n",
            "4 model2/dense_2/kernel:0 1982464\n",
            "5 model2/dense_2/bias:0 128\n",
            "6 model2/dense_3/kernel:0 1280\n",
            "7 model2/dense_3/bias:0 10\n"
          ],
          "name": "stdout"
        }
      ]
    },
    {
      "cell_type": "code",
      "metadata": {
        "id": "KtL5fD5j-M05",
        "colab_type": "code",
        "colab": {
          "base_uri": "https://localhost:8080/",
          "height": 33
        },
        "outputId": "bdad5665-2f2e-48b2-ccb6-0eccabbff3ce"
      },
      "source": [
        "total_num"
      ],
      "execution_count": 19,
      "outputs": [
        {
          "output_type": "execute_result",
          "data": {
            "text/plain": [
              "1993450"
            ]
          },
          "metadata": {
            "tags": []
          },
          "execution_count": 19
        }
      ]
    },
    {
      "cell_type": "code",
      "metadata": {
        "id": "k_QBEaHJ-Ndt",
        "colab_type": "code",
        "colab": {
          "base_uri": "https://localhost:8080/",
          "height": 33
        },
        "outputId": "2e48f4f3-5669-4a1f-b8e3-a98f2f172aa9"
      },
      "source": [
        "2002698 - 1993450 == 9216 + 32"
      ],
      "execution_count": 20,
      "outputs": [
        {
          "output_type": "execute_result",
          "data": {
            "text/plain": [
              "True"
            ]
          },
          "metadata": {
            "tags": []
          },
          "execution_count": 20
        }
      ]
    },
    {
      "cell_type": "markdown",
      "metadata": {
        "id": "Nn1FBFd2-oDr",
        "colab_type": "text"
      },
      "source": [
        "It's easy to share model parameters; we just need to reuse the same layer objects."
      ]
    }
  ]
}